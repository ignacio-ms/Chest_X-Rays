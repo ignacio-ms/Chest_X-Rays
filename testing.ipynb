{
 "cells": [
  {
   "cell_type": "code",
   "execution_count": 1,
   "metadata": {
    "collapsed": true,
    "ExecuteTime": {
     "start_time": "2023-04-27T20:10:10.113844Z",
     "end_time": "2023-04-27T20:10:13.830932Z"
    }
   },
   "outputs": [],
   "source": [
    "from datasets import CXRDataset\n",
    "import numpy as np"
   ]
  },
  {
   "cell_type": "code",
   "execution_count": 2,
   "outputs": [],
   "source": [
    "IMG_DIR = './CXR8/Images'\n",
    "TRAIN_LIST_FILE = './CXR8/Labels/train_list.txt'\n",
    "VAL_LIST_FILE = './CXR8/Labels/val_list.txt'\n",
    "TEST_LIST_FILE = './CXR8/Labels/test_list.txt'\n",
    "AUX_LIST_FILE = './CXR8/Labels/aux_train_list.txt'"
   ],
   "metadata": {
    "collapsed": false,
    "ExecuteTime": {
     "start_time": "2023-04-26T14:46:07.664805Z",
     "end_time": "2023-04-26T14:46:07.676313Z"
    }
   }
  },
  {
   "cell_type": "code",
   "execution_count": 6,
   "outputs": [
    {
     "ename": "error",
     "evalue": "OpenCV(4.7.0) D:\\a\\opencv-python\\opencv-python\\opencv\\modules\\imgcodecs\\src\\loadsave.cpp:692: error: (-2:Unspecified error) could not find a writer for the specified extension in function 'cv::imwrite_'\n",
     "output_type": "error",
     "traceback": [
      "\u001B[1;31m---------------------------------------------------------------------------\u001B[0m",
      "\u001B[1;31merror\u001B[0m                                     Traceback (most recent call last)",
      "Cell \u001B[1;32mIn[6], line 9\u001B[0m\n\u001B[0;32m      6\u001B[0m img \u001B[38;5;241m=\u001B[39m img \u001B[38;5;241m/\u001B[39m \u001B[38;5;241m255.0\u001B[39m\n\u001B[0;32m      7\u001B[0m img_res \u001B[38;5;241m=\u001B[39m img\u001B[38;5;241m.\u001B[39mastype(np\u001B[38;5;241m.\u001B[39mfloat32)\u001B[38;5;241m.\u001B[39mreshape(\u001B[38;5;241m1\u001B[39m, \u001B[38;5;241m512\u001B[39m, \u001B[38;5;241m512\u001B[39m, \u001B[38;5;241m3\u001B[39m)\n\u001B[1;32m----> 9\u001B[0m \u001B[43mcv2\u001B[49m\u001B[38;5;241;43m.\u001B[39;49m\u001B[43mimwrite\u001B[49m\u001B[43m(\u001B[49m\u001B[38;5;124;43m\"\u001B[39;49m\u001B[38;5;124;43mimg\u001B[39;49m\u001B[38;5;124;43m\"\u001B[39;49m\u001B[43m,\u001B[49m\u001B[43m \u001B[49m\u001B[43mimg\u001B[49m\u001B[43m)\u001B[49m\n\u001B[0;32m     10\u001B[0m cv2\u001B[38;5;241m.\u001B[39mwaitKey(\u001B[38;5;241m0\u001B[39m)\n\u001B[0;32m     11\u001B[0m cv2\u001B[38;5;241m.\u001B[39mdestroyAllWindows()\n",
      "\u001B[1;31merror\u001B[0m: OpenCV(4.7.0) D:\\a\\opencv-python\\opencv-python\\opencv\\modules\\imgcodecs\\src\\loadsave.cpp:692: error: (-2:Unspecified error) could not find a writer for the specified extension in function 'cv::imwrite_'\n"
     ]
    }
   ],
   "source": [
    "import cv2\n",
    "\n",
    "img = cv2.imread('./CXR8/Images/00012413_002.png', cv2.IMREAD_COLOR)\n",
    "img = cv2.cvtColor(img, cv2.COLOR_BGR2RGB)\n",
    "img = cv2.resize(img, (512, 512), interpolation=cv2.INTER_AREA)\n",
    "img = img / 255.0\n",
    "img = img.astype(np.float32).reshape(1, 512, 512, 3)\n",
    "\n",
    "print(img.shape)"
   ],
   "metadata": {
    "collapsed": false,
    "ExecuteTime": {
     "start_time": "2023-04-27T20:11:50.863246Z",
     "end_time": "2023-04-27T20:11:52.010975Z"
    }
   }
  },
  {
   "cell_type": "code",
   "execution_count": 3,
   "outputs": [
    {
     "name": "stdout",
     "output_type": "stream",
     "text": [
      "['Atelectasis' 'Cardiomegaly']\n"
     ]
    }
   ],
   "source": [
    "CLASS_NAMES = [\n",
    "    'Atelectasis', 'Cardiomegaly', 'Effusion',\n",
    "    'Infiltration', 'Mass', 'Nodule', 'Pneumonia',\n",
    "    'Pneumothorax', 'Consolidation', 'Edema', 'Emphysema',\n",
    "    'Fibrosis', 'Pleural_Thickening', 'Hernia'\n",
    "]\n",
    "\n",
    "labels = [\n",
    "    [0, 0, 0, 0, 0, 0, 0, 0, 0, 0, 0, 0, 0, 0],\n",
    "    [0, 0, 1, 0, 0, 0, 0, 0, 0, 0, 0, 0, 0, 0],\n",
    "    [1, 1, 0, 0, 0, 0, 0, 0, 0, 0, 0, 0, 0, 0]\n",
    "]\n",
    "\n",
    "index = 2\n",
    "dis = np.array(list(map(CLASS_NAMES.__getitem__, np.nonzero(labels[index])[0])))\n",
    "\n",
    "print(dis if len(dis) != 0 else ['Normal'])"
   ],
   "metadata": {
    "collapsed": false,
    "ExecuteTime": {
     "start_time": "2023-04-24T13:46:56.306166Z",
     "end_time": "2023-04-24T13:46:56.347167Z"
    }
   }
  },
  {
   "cell_type": "code",
   "execution_count": 3,
   "outputs": [
    {
     "name": "stdout",
     "output_type": "stream",
     "text": [
      "load took 1.584770679473877[s] to execute.\n",
      "\n",
      "----------CXR Dataset----------\n",
      "No.Examples: 100\n",
      "No.Clases: 14\n",
      "Image shapes: (512, 512, 3)\n",
      "TfDataset\n",
      "(512, 512, 3)\n",
      "(512, 512, 3)\n",
      "(512, 512, 3)\n"
     ]
    }
   ],
   "source": [
    "val = CXRDataset(IMG_DIR, AUX_LIST_FILE, resize=(512, 512))\n",
    "val.load()\n",
    "print(val)\n",
    "\n",
    "val.print_img(0)\n",
    "val.print_img(1)\n",
    "val.print_img(2)"
   ],
   "metadata": {
    "collapsed": false,
    "ExecuteTime": {
     "start_time": "2023-04-26T14:46:07.679319Z",
     "end_time": "2023-04-26T14:46:15.991489Z"
    }
   }
  },
  {
   "cell_type": "code",
   "execution_count": 1,
   "outputs": [
    {
     "name": "stdout",
     "output_type": "stream",
     "text": [
      "Num GPUs Available:  0\n",
      "[name: \"/device:CPU:0\"\n",
      "device_type: \"CPU\"\n",
      "memory_limit: 268435456\n",
      "locality {\n",
      "}\n",
      "incarnation: 4541221240871342100\n",
      "xla_global_id: -1\n",
      "]\n"
     ]
    },
    {
     "data": {
      "text/plain": "OrderedDict([('is_cuda_build', False),\n             ('is_rocm_build', False),\n             ('is_tensorrt_build', False),\n             ('msvcp_dll_names', 'msvcp140.dll,msvcp140_1.dll')])"
     },
     "execution_count": 1,
     "metadata": {},
     "output_type": "execute_result"
    }
   ],
   "source": [
    "import tensorflow as tf\n",
    "from tensorflow.python.client import device_lib\n",
    "\n",
    "\n",
    "print(\"Num GPUs Available: \", len(tf.config.list_physical_devices('GPU')))\n",
    "print(device_lib.list_local_devices())\n",
    "\n",
    "tf.sysconfig.get_build_info()"
   ],
   "metadata": {
    "collapsed": false,
    "ExecuteTime": {
     "start_time": "2023-04-24T17:08:14.728055Z",
     "end_time": "2023-04-24T17:08:21.034250Z"
    }
   }
  },
  {
   "cell_type": "code",
   "execution_count": 7,
   "outputs": [
    {
     "name": "stdout",
     "output_type": "stream",
     "text": [
      "Num GPUs Available:  0\n",
      "Loading train data...\n",
      "Loading validation data...\n",
      "25/25 [==============================] - 164s 6s/step - loss: 7.1704 - accuracy: 0.1500 - val_loss: 0.2209 - val_accuracy: 0.5000 - lr: 0.0010\n",
      "Model: \"model\"\n",
      "_________________________________________________________________\n",
      " Layer (type)                Output Shape              Param #   \n",
      "=================================================================\n",
      " input_1 (InputLayer)        [(None, 512, 512, 3)]     0         \n",
      "                                                                 \n",
      " block1_conv1 (Conv2D)       (None, 512, 512, 64)      1792      \n",
      "                                                                 \n",
      " block1_conv2 (Conv2D)       (None, 512, 512, 64)      36928     \n",
      "                                                                 \n",
      " block1_pool (MaxPooling2D)  (None, 256, 256, 64)      0         \n",
      "                                                                 \n",
      " block2_conv1 (Conv2D)       (None, 256, 256, 128)     73856     \n",
      "                                                                 \n",
      " block2_conv2 (Conv2D)       (None, 256, 256, 128)     147584    \n",
      "                                                                 \n",
      " block2_pool (MaxPooling2D)  (None, 128, 128, 128)     0         \n",
      "                                                                 \n",
      " block3_conv1 (Conv2D)       (None, 128, 128, 256)     295168    \n",
      "                                                                 \n",
      " block3_conv2 (Conv2D)       (None, 128, 128, 256)     590080    \n",
      "                                                                 \n",
      " block3_conv3 (Conv2D)       (None, 128, 128, 256)     590080    \n",
      "                                                                 \n",
      " block3_pool (MaxPooling2D)  (None, 64, 64, 256)       0         \n",
      "                                                                 \n",
      " block4_conv1 (Conv2D)       (None, 64, 64, 512)       1180160   \n",
      "                                                                 \n",
      " block4_conv2 (Conv2D)       (None, 64, 64, 512)       2359808   \n",
      "                                                                 \n",
      " block4_conv3 (Conv2D)       (None, 64, 64, 512)       2359808   \n",
      "                                                                 \n",
      " block4_pool (MaxPooling2D)  (None, 32, 32, 512)       0         \n",
      "                                                                 \n",
      " block5_conv1 (Conv2D)       (None, 32, 32, 512)       2359808   \n",
      "                                                                 \n",
      " block5_conv2 (Conv2D)       (None, 32, 32, 512)       2359808   \n",
      "                                                                 \n",
      " block5_conv3 (Conv2D)       (None, 32, 32, 512)       2359808   \n",
      "                                                                 \n",
      " block5_pool (MaxPooling2D)  (None, 16, 16, 512)       0         \n",
      "                                                                 \n",
      " transition_layer (Conv2D)   (None, 16, 16, 2048)      9439232   \n",
      "                                                                 \n",
      " global_average_pooling2d (G  (None, 2048)             0         \n",
      " lobalAveragePooling2D)                                          \n",
      "                                                                 \n",
      " dense (Dense)               (None, 14)                28686     \n",
      "                                                                 \n",
      "=================================================================\n",
      "Total params: 24,182,606\n",
      "Trainable params: 24,182,606\n",
      "Non-trainable params: 0\n",
      "_________________________________________________________________\n"
     ]
    },
    {
     "data": {
      "text/plain": "<Figure size 800x800 with 2 Axes>",
      "image/png": "[encoded data removed]"
     },
     "metadata": {},
     "output_type": "display_data"
    },
    {
     "data": {
      "text/plain": "<keras.callbacks.History at 0x1d01afbf6a0>"
     },
     "execution_count": 7,
     "metadata": {},
     "output_type": "execute_result"
    }
   ],
   "source": [
    "from nets.vgg_net import TransferVGG\n",
    "from datasets import CXRDataset\n",
    "\n",
    "import tensorflow as tf\n",
    "import numpy as np\n",
    "import cv2\n",
    "\n",
    "\n",
    "IMG_DIR = './CXR8/Images'\n",
    "TRAIN_LIST_FILE = './CXR8/Labels/aux_train_list.txt'\n",
    "VAL_LIST_FILE = './CXR8/Labels/aux_val_list.txt'\n",
    "TEST_LIST_FILE = './CXR8/Labels/test_list.txt'\n",
    "\n",
    "print(\"Num GPUs Available: \", len(tf.config.list_physical_devices('GPU')))\n",
    "\n",
    "\n",
    "print('Loading train data...')\n",
    "train_gen = CXRDataset(\n",
    "    IMG_DIR,\n",
    "    TRAIN_LIST_FILE,\n",
    "    batch_size=4,\n",
    "    resize=(512, 512)\n",
    ")\n",
    "\n",
    "print('Loading validation data...')\n",
    "val_gen = CXRDataset(\n",
    "    IMG_DIR,\n",
    "    VAL_LIST_FILE,\n",
    "    batch_size=4,\n",
    "    resize=(512, 512)\n",
    ")\n",
    "\n",
    "# ----- TransferVGG Training and Evaluation ----- #\n",
    "model_vgg = TransferVGG()\n",
    "model_vgg.build_top(fine_tuning=True)\n",
    "model_vgg.compile(lr=1e-3)\n",
    "model_vgg.train(\n",
    "    train_gen,\n",
    "    val_gen,\n",
    "    batch_size=4, epochs=1,\n",
    "    save=False, verbose=True\n",
    ")"
   ],
   "metadata": {
    "collapsed": false,
    "ExecuteTime": {
     "start_time": "2023-04-27T20:17:19.709652Z",
     "end_time": "2023-04-27T20:20:06.258002Z"
    }
   }
  },
  {
   "cell_type": "code",
   "execution_count": 19,
   "outputs": [],
   "source": [
    "import keras.backend as K\n",
    "\n",
    "\n",
    "def class_activation_mapping(model, original_img, target_class=1):\n",
    "    # a = self.model.layers[-3].output[0]\n",
    "    # w = self.model.layers[-1].get_weights()[0]\n",
    "    # return tf.matmul(a, w)\n",
    "\n",
    "    w, h, _ = original_img.shape\n",
    "    # img = np.array([np.transpose(np.float32(original_img), (2, 0, 1))])\n",
    "    img = original_img.reshape(1, 512, 512, 3)\n",
    "\n",
    "    class_weights = model.layers[-1].get_weights()[0]\n",
    "    transition_layer = model.layers[-3]\n",
    "\n",
    "    get_output = K.function(\n",
    "        [model.layers[0].input],\n",
    "        [\n",
    "            transition_layer.output,\n",
    "            model.layers[-1].output\n",
    "        ]\n",
    "    )\n",
    "    [transition_outputs, predictions] = get_output([img])\n",
    "    transition_outputs = transition_outputs[0, :, :, :]\n",
    "\n",
    "    cam = np.zeros(dtype=np.float32, shape=transition_outputs.shape[1:3])\n",
    "    print(class_weights[target_class, :].shape)\n",
    "    for i, w in enumerate(class_weights[target_class, :]):\n",
    "        cam += w * transition_outputs[i, :, :]\n",
    "\n",
    "    cam = cv2.resize(cam, (512, 512))\n",
    "    cam = np.maximum(cam, 0)\n",
    "    heatmap = cam / np.max(cam)\n",
    "\n",
    "    original_img = original_img[0, :]\n",
    "    original_img -= np.min(original_img)\n",
    "    original_img = np.minimum(original_img, 255)\n",
    "\n",
    "    cam = cv2.applyColorMap(np.uint8(255 * heatmap), cv2.COLORMAP_JET)\n",
    "    cam = np.float32(cam) + np.float32(original_img)\n",
    "    cam = 255 * cam / np.max(cam)\n",
    "    return np.uint8(cam), heatmap"
   ],
   "metadata": {
    "collapsed": false,
    "ExecuteTime": {
     "start_time": "2023-04-27T20:33:57.725365Z",
     "end_time": "2023-04-27T20:33:58.934609Z"
    }
   }
  },
  {
   "cell_type": "code",
   "execution_count": 24,
   "outputs": [
    {
     "name": "stdout",
     "output_type": "stream",
     "text": [
      "1/1 [==============================] - 0s 381ms/step\n",
      "[[0.28038198 0.00804749 0.06537315 0.01383111 0.03108016 0.13616557\n",
      "  0.0052133  0.265906   0.00898886 0.0485302  0.0560853  0.06754944\n",
      "  0.01245807 0.00038938]]\n",
      "0\n",
      "(14,)\n"
     ]
    }
   ],
   "source": [
    "img = cv2.imread('./CXR8/Images/00012413_002.png', cv2.IMREAD_COLOR)\n",
    "img = cv2.cvtColor(img, cv2.COLOR_BGR2RGB)\n",
    "img = cv2.resize(img, (512, 512), interpolation=cv2.INTER_AREA)\n",
    "img = img / 255.0\n",
    "img = img.astype(np.float32)\n",
    "\n",
    "pred = model_vgg.model.predict(img.reshape(1, 512, 512, 3))\n",
    "print(pred)\n",
    "pred_class = np.argmax(pred)\n",
    "print(pred_class)\n",
    "\n",
    "cam, heatmap = class_activation_mapping(model_vgg.model, img, pred_class)\n",
    "\n",
    "cv2.imshow('img', cv2.cvtColor(img, cv2.COLOR_RGB2BGR))\n",
    "cv2.imshow(\"cam\", cam)\n",
    "cv2.imshow(\"heatmap\", heatmap)\n",
    "\n",
    "cv2.waitKey(0)\n",
    "cv2.destroyAllWindows()"
   ],
   "metadata": {
    "collapsed": false,
    "ExecuteTime": {
     "start_time": "2023-04-27T20:38:55.893931Z",
     "end_time": "2023-04-27T20:39:10.844140Z"
    }
   }
  }
 ],
 "metadata": {
  "kernelspec": {
   "display_name": "Python 3",
   "language": "python",
   "name": "python3"
  },
  "language_info": {
   "codemirror_mode": {
    "name": "ipython",
    "version": 2
   },
   "file_extension": ".py",
   "mimetype": "text/x-python",
   "name": "python",
   "nbconvert_exporter": "python",
   "pygments_lexer": "ipython2",
   "version": "2.7.6"
  }
 },
 "nbformat": 4,
 "nbformat_minor": 0
}
