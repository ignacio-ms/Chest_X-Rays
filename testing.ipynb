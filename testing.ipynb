{
 "cells": [
  {
   "cell_type": "code",
   "execution_count": 1,
   "metadata": {
    "collapsed": true,
    "ExecuteTime": {
     "start_time": "2023-04-24T10:11:49.287273Z",
     "end_time": "2023-04-24T10:11:53.897815Z"
    }
   },
   "outputs": [],
   "source": [
    "from datasets import CXRDataset\n",
    "import numpy as np"
   ]
  },
  {
   "cell_type": "code",
   "execution_count": 2,
   "outputs": [],
   "source": [
    "IMG_DIR = './CXR8/Images'\n",
    "TRAIN_LIST_FILE = './CXR8/Labels/train_list.txt'\n",
    "VAL_LIST_FILE = './CXR8/Labels/val_list.txt'\n",
    "TEST_LIST_FILE = './CXR8/Labels/test_list.txt'\n",
    "AUX_LIST_FILE = './CXR8/Labels/aux_list.txt'"
   ],
   "metadata": {
    "collapsed": false,
    "ExecuteTime": {
     "start_time": "2023-04-24T10:11:53.898816Z",
     "end_time": "2023-04-24T10:11:53.913220Z"
    }
   }
  },
  {
   "cell_type": "code",
   "execution_count": 3,
   "outputs": [
    {
     "name": "stdout",
     "output_type": "stream",
     "text": [
      "['Atelectasis' 'Cardiomegaly']\n"
     ]
    }
   ],
   "source": [
    "CLASS_NAMES = [\n",
    "    'Atelectasis', 'Cardiomegaly', 'Effusion',\n",
    "    'Infiltration', 'Mass', 'Nodule', 'Pneumonia',\n",
    "    'Pneumothorax', 'Consolidation', 'Edema', 'Emphysema',\n",
    "    'Fibrosis', 'Pleural_Thickening', 'Hernia'\n",
    "]\n",
    "\n",
    "labels = [\n",
    "    [0, 0, 0, 0, 0, 0, 0, 0, 0, 0, 0, 0, 0, 0],\n",
    "    [0, 0, 1, 0, 0, 0, 0, 0, 0, 0, 0, 0, 0, 0],\n",
    "    [1, 1, 0, 0, 0, 0, 0, 0, 0, 0, 0, 0, 0, 0]\n",
    "]\n",
    "\n",
    "index = 2\n",
    "dis = np.array(list(map(CLASS_NAMES.__getitem__, np.nonzero(labels[index])[0])))\n",
    "\n",
    "print(dis if len(dis) != 0 else ['Normal'])"
   ],
   "metadata": {
    "collapsed": false,
    "ExecuteTime": {
     "start_time": "2023-04-24T10:11:53.916224Z",
     "end_time": "2023-04-24T10:11:53.957225Z"
    }
   }
  },
  {
   "cell_type": "code",
   "execution_count": 5,
   "outputs": [
    {
     "name": "stdout",
     "output_type": "stream",
     "text": [
      "load took 0.09551763534545898[s] to execute.\n",
      "\n",
      "5\n",
      "print\n",
      "[[0.99607843 0.99607843 1.         ... 0.9882353  1.         0.65882355]\n",
      " [1.         0.99607843 0.99215686 ... 0.99215686 1.         0.65882355]\n",
      " [1.         0.99607843 0.99215686 ... 1.         1.         0.65882355]\n",
      " ...\n",
      " [0.09411765 0.09411765 0.09411765 ... 0.5882353  0.6862745  0.48235294]\n",
      " [0.09411765 0.09411765 0.09411765 ... 0.58431375 0.68235296 0.47058824]\n",
      " [0.09411765 0.09411765 0.09411765 ... 0.5803922  0.68235296 0.47058824]]\n",
      "print\n",
      "[[0.34509805 0.29411766 0.26666668 ... 0.5803922  0.5764706  0.5882353 ]\n",
      " [0.30980393 0.25882354 0.23137255 ... 0.49411765 0.49411765 0.50980395]\n",
      " [0.2784314  0.23921569 0.2        ... 0.40392157 0.4117647  0.42352942]\n",
      " ...\n",
      " [0.16470589 0.17254902 0.16862746 ... 0.16862746 0.15294118 0.14117648]\n",
      " [0.16078432 0.16862746 0.1764706  ... 0.16470589 0.14901961 0.13725491]\n",
      " [0.16078432 0.16862746 0.18431373 ... 0.16078432 0.14509805 0.13725491]]\n",
      "print\n",
      "[[0.6156863  0.5921569  0.5882353  ... 0.         0.         0.        ]\n",
      " [0.59607846 0.5803922  0.5803922  ... 0.         0.         0.        ]\n",
      " [0.5882353  0.5647059  0.54509807 ... 0.         0.         0.        ]\n",
      " ...\n",
      " [0.99607843 0.9764706  0.96862745 ... 0.         0.         0.        ]\n",
      " [0.99215686 0.972549   0.95686275 ... 0.         0.         0.        ]\n",
      " [1.         0.9882353  0.9529412  ... 0.         0.         0.        ]]\n"
     ]
    }
   ],
   "source": [
    "val = CXRDataset(IMG_DIR, AUX_LIST_FILE)\n",
    "val.load()\n",
    "\n",
    "print(len(val))\n",
    "val.print_img(0)\n",
    "val.print_img(1)\n",
    "val.print_img(2)"
   ],
   "metadata": {
    "collapsed": false,
    "ExecuteTime": {
     "start_time": "2023-04-24T10:12:15.840625Z",
     "end_time": "2023-04-24T10:12:26.623679Z"
    }
   }
  }
 ],
 "metadata": {
  "kernelspec": {
   "display_name": "Python 3",
   "language": "python",
   "name": "python3"
  },
  "language_info": {
   "codemirror_mode": {
    "name": "ipython",
    "version": 2
   },
   "file_extension": ".py",
   "mimetype": "text/x-python",
   "name": "python",
   "nbconvert_exporter": "python",
   "pygments_lexer": "ipython2",
   "version": "2.7.6"
  }
 },
 "nbformat": 4,
 "nbformat_minor": 0
}
