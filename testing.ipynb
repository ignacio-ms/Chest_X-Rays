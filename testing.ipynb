{
 "cells": [
  {
   "cell_type": "code",
   "execution_count": 1,
   "metadata": {
    "collapsed": true,
    "ExecuteTime": {
     "start_time": "2023-04-23T20:23:40.603929Z",
     "end_time": "2023-04-23T20:23:48.767155Z"
    }
   },
   "outputs": [],
   "source": [
    "from datasets import CXRDataset\n",
    "import numpy as np"
   ]
  },
  {
   "cell_type": "code",
   "execution_count": 2,
   "outputs": [],
   "source": [
    "IMG_DIR = './CXR8/Images'\n",
    "TRAIN_LIST_FILE = './CXR8/Labels/train_list.txt'\n",
    "VAL_LIST_FILE = './CXR8/Labels/val_list.txt'\n",
    "TEST_LIST_FILE = './CXR8/Labels/test_list.txt'"
   ],
   "metadata": {
    "collapsed": false,
    "ExecuteTime": {
     "start_time": "2023-04-23T20:23:50.792647Z",
     "end_time": "2023-04-23T20:23:50.956415Z"
    }
   }
  },
  {
   "cell_type": "code",
   "execution_count": null,
   "outputs": [],
   "source": [
    "CLASS_NAMES = [\n",
    "    'Atelectasis', 'Cardiomegaly', 'Effusion',\n",
    "    'Infiltration', 'Mass', 'Nodule', 'Pneumonia',\n",
    "    'Pneumothorax', 'Consolidation', 'Edema', 'Emphysema',\n",
    "    'Fibrosis', 'Pleural_Thickening', 'Hernia'\n",
    "]\n",
    "\n",
    "labels = [\n",
    "    [0, 0, 0, 0, 0, 0, 0, 0, 0, 0, 0, 0, 0, 0],\n",
    "    [0, 0, 1, 0, 0, 0, 0, 0, 0, 0, 0, 0, 0, 0],\n",
    "    [1, 1, 0, 0, 0, 0, 0, 0, 0, 0, 0, 0, 0, 0]\n",
    "]\n",
    "\n",
    "index = 0\n",
    "dis = np.array(list(map(CLASS_NAMES.__getitem__, np.nonzero(labels[index])[0])))\n",
    "\n",
    "print(dis if len(dis) != 0 else ['Normal'])"
   ],
   "metadata": {
    "collapsed": false
   }
  },
  {
   "cell_type": "code",
   "execution_count": 4,
   "outputs": [
    {
     "name": "stdout",
     "output_type": "stream",
     "text": [
      "11219\n"
     ]
    },
    {
     "ename": "ValueError",
     "evalue": "Can't print empty dataset\n",
     "output_type": "error",
     "traceback": [
      "\u001B[1;31m---------------------------------------------------------------------------\u001B[0m",
      "\u001B[1;31mValueError\u001B[0m                                Traceback (most recent call last)",
      "Cell \u001B[1;32mIn[4], line 5\u001B[0m\n\u001B[0;32m      2\u001B[0m \u001B[38;5;66;03m# train.load()\u001B[39;00m\n\u001B[0;32m      4\u001B[0m \u001B[38;5;28mprint\u001B[39m(\u001B[38;5;28mlen\u001B[39m(val))\n\u001B[1;32m----> 5\u001B[0m \u001B[43mval\u001B[49m\u001B[38;5;241;43m.\u001B[39;49m\u001B[43mprint_img\u001B[49m\u001B[43m(\u001B[49m\u001B[38;5;241;43m0\u001B[39;49m\u001B[43m)\u001B[49m\n\u001B[0;32m      6\u001B[0m val\u001B[38;5;241m.\u001B[39mprint_img(\u001B[38;5;241m1\u001B[39m)\n\u001B[0;32m      7\u001B[0m val\u001B[38;5;241m.\u001B[39mprint_img(\u001B[38;5;241m2\u001B[39m)\n",
      "File \u001B[1;32m~\\OneDrive\\Nacho\\UPNA\\Erasmus\\BI\\Chest X-Rays\\datasets.py:75\u001B[0m, in \u001B[0;36mCXRDataset.print_img\u001B[1;34m(self, index)\u001B[0m\n\u001B[0;32m     70\u001B[0m \u001B[38;5;124;03m\"\"\"\u001B[39;00m\n\u001B[0;32m     71\u001B[0m \u001B[38;5;124;03mPrint an image of the dataset using opencv\u001B[39;00m\n\u001B[0;32m     72\u001B[0m \u001B[38;5;124;03m:param index: Index of the image in the dataset\u001B[39;00m\n\u001B[0;32m     73\u001B[0m \u001B[38;5;124;03m\"\"\"\u001B[39;00m\n\u001B[0;32m     74\u001B[0m \u001B[38;5;28;01mif\u001B[39;00m \u001B[38;5;28mlen\u001B[39m(\u001B[38;5;28mself\u001B[39m\u001B[38;5;241m.\u001B[39mX) \u001B[38;5;241m==\u001B[39m \u001B[38;5;241m0\u001B[39m:\n\u001B[1;32m---> 75\u001B[0m     \u001B[38;5;28;01mraise\u001B[39;00m \u001B[38;5;167;01mValueError\u001B[39;00m(\u001B[38;5;124m\"\u001B[39m\u001B[38;5;124mCan\u001B[39m\u001B[38;5;124m'\u001B[39m\u001B[38;5;124mt print empty dataset\u001B[39m\u001B[38;5;130;01m\\n\u001B[39;00m\u001B[38;5;124m\"\u001B[39m)\n\u001B[0;32m     77\u001B[0m img \u001B[38;5;241m=\u001B[39m \u001B[38;5;28mself\u001B[39m\u001B[38;5;241m.\u001B[39mX[index]\u001B[38;5;241m.\u001B[39mnumpy()\n\u001B[0;32m     78\u001B[0m label \u001B[38;5;241m=\u001B[39m \u001B[38;5;28mself\u001B[39m\u001B[38;5;241m.\u001B[39moh2disease(\u001B[38;5;28mself\u001B[39m\u001B[38;5;241m.\u001B[39mimg_labels[index])\n",
      "\u001B[1;31mValueError\u001B[0m: Can't print empty dataset\n"
     ]
    }
   ],
   "source": [
    "val = CXRDataset(IMG_DIR, VAL_LIST_FILE)\n",
    "# train.load()\n",
    "\n",
    "print(len(val))\n",
    "val.print_img(0)\n",
    "val.print_img(1)\n",
    "val.print_img(2)"
   ],
   "metadata": {
    "collapsed": false,
    "ExecuteTime": {
     "start_time": "2023-04-23T18:17:31.890174Z",
     "end_time": "2023-04-23T18:18:15.395529Z"
    }
   }
  }
 ],
 "metadata": {
  "kernelspec": {
   "display_name": "Python 3",
   "language": "python",
   "name": "python3"
  },
  "language_info": {
   "codemirror_mode": {
    "name": "ipython",
    "version": 2
   },
   "file_extension": ".py",
   "mimetype": "text/x-python",
   "name": "python",
   "nbconvert_exporter": "python",
   "pygments_lexer": "ipython2",
   "version": "2.7.6"
  }
 },
 "nbformat": 4,
 "nbformat_minor": 0
}
