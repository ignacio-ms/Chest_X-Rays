{
 "cells": [
  {
   "cell_type": "code",
   "execution_count": 1,
   "metadata": {
    "collapsed": true,
    "ExecuteTime": {
     "start_time": "2023-04-24T02:11:39.835070Z",
     "end_time": "2023-04-24T02:12:12.258151Z"
    }
   },
   "outputs": [],
   "source": [
    "from datasets import CXRDataset\n",
    "import numpy as np"
   ]
  },
  {
   "cell_type": "code",
   "execution_count": 2,
   "outputs": [],
   "source": [
    "IMG_DIR = './CXR8/Images'\n",
    "TRAIN_LIST_FILE = './CXR8/Labels/train_list.txt'\n",
    "VAL_LIST_FILE = './CXR8/Labels/val_list.txt'\n",
    "TEST_LIST_FILE = './CXR8/Labels/test_list.txt'"
   ],
   "metadata": {
    "collapsed": false,
    "ExecuteTime": {
     "start_time": "2023-04-24T02:12:12.261151Z",
     "end_time": "2023-04-24T02:12:12.273153Z"
    }
   }
  },
  {
   "cell_type": "code",
   "execution_count": 3,
   "outputs": [
    {
     "name": "stdout",
     "output_type": "stream",
     "text": [
      "['Normal']\n"
     ]
    }
   ],
   "source": [
    "CLASS_NAMES = [\n",
    "    'Atelectasis', 'Cardiomegaly', 'Effusion',\n",
    "    'Infiltration', 'Mass', 'Nodule', 'Pneumonia',\n",
    "    'Pneumothorax', 'Consolidation', 'Edema', 'Emphysema',\n",
    "    'Fibrosis', 'Pleural_Thickening', 'Hernia'\n",
    "]\n",
    "\n",
    "labels = [\n",
    "    [0, 0, 0, 0, 0, 0, 0, 0, 0, 0, 0, 0, 0, 0],\n",
    "    [0, 0, 1, 0, 0, 0, 0, 0, 0, 0, 0, 0, 0, 0],\n",
    "    [1, 1, 0, 0, 0, 0, 0, 0, 0, 0, 0, 0, 0, 0]\n",
    "]\n",
    "\n",
    "index = 0\n",
    "dis = np.array(list(map(CLASS_NAMES.__getitem__, np.nonzero(labels[index])[0])))\n",
    "\n",
    "print(dis if len(dis) != 0 else ['Normal'])"
   ],
   "metadata": {
    "collapsed": false,
    "ExecuteTime": {
     "start_time": "2023-04-24T02:12:12.276165Z",
     "end_time": "2023-04-24T02:12:12.318154Z"
    }
   }
  },
  {
   "cell_type": "code",
   "execution_count": null,
   "outputs": [],
   "source": [
    "val = CXRDataset(IMG_DIR, VAL_LIST_FILE)\n",
    "val.load()\n",
    "\n",
    "print(len(val))\n",
    "val.print_img(0)\n",
    "val.print_img(1)\n",
    "val.print_img(2)"
   ],
   "metadata": {
    "collapsed": false,
    "ExecuteTime": {
     "start_time": "2023-04-24T01:27:11.825158Z",
     "end_time": "2023-04-24T02:10:33.245571Z"
    },
    "pycharm": {
     "is_executing": true
    }
   }
  }
 ],
 "metadata": {
  "kernelspec": {
   "display_name": "Python 3",
   "language": "python",
   "name": "python3"
  },
  "language_info": {
   "codemirror_mode": {
    "name": "ipython",
    "version": 2
   },
   "file_extension": ".py",
   "mimetype": "text/x-python",
   "name": "python",
   "nbconvert_exporter": "python",
   "pygments_lexer": "ipython2",
   "version": "2.7.6"
  }
 },
 "nbformat": 4,
 "nbformat_minor": 0
}
