{
 "cells": [
  {
   "cell_type": "code",
   "execution_count": 1,
   "metadata": {
    "collapsed": true,
    "ExecuteTime": {
     "start_time": "2023-04-24T16:05:24.743879Z",
     "end_time": "2023-04-24T16:05:30.020299Z"
    }
   },
   "outputs": [],
   "source": [
    "from datasets import CXRDataset\n",
    "import numpy as np"
   ]
  },
  {
   "cell_type": "code",
   "execution_count": 2,
   "outputs": [],
   "source": [
    "IMG_DIR = './CXR8/Images'\n",
    "TRAIN_LIST_FILE = './CXR8/Labels/train_list.txt'\n",
    "VAL_LIST_FILE = './CXR8/Labels/val_list.txt'\n",
    "TEST_LIST_FILE = './CXR8/Labels/test_list.txt'\n",
    "AUX_LIST_FILE = './CXR8/Labels/aux_train_list.txt'"
   ],
   "metadata": {
    "collapsed": false,
    "ExecuteTime": {
     "start_time": "2023-04-24T13:46:56.290162Z",
     "end_time": "2023-04-24T13:46:56.303168Z"
    }
   }
  },
  {
   "cell_type": "code",
   "execution_count": 3,
   "outputs": [
    {
     "name": "stdout",
     "output_type": "stream",
     "text": [
      "['Atelectasis' 'Cardiomegaly']\n"
     ]
    }
   ],
   "source": [
    "CLASS_NAMES = [\n",
    "    'Atelectasis', 'Cardiomegaly', 'Effusion',\n",
    "    'Infiltration', 'Mass', 'Nodule', 'Pneumonia',\n",
    "    'Pneumothorax', 'Consolidation', 'Edema', 'Emphysema',\n",
    "    'Fibrosis', 'Pleural_Thickening', 'Hernia'\n",
    "]\n",
    "\n",
    "labels = [\n",
    "    [0, 0, 0, 0, 0, 0, 0, 0, 0, 0, 0, 0, 0, 0],\n",
    "    [0, 0, 1, 0, 0, 0, 0, 0, 0, 0, 0, 0, 0, 0],\n",
    "    [1, 1, 0, 0, 0, 0, 0, 0, 0, 0, 0, 0, 0, 0]\n",
    "]\n",
    "\n",
    "index = 2\n",
    "dis = np.array(list(map(CLASS_NAMES.__getitem__, np.nonzero(labels[index])[0])))\n",
    "\n",
    "print(dis if len(dis) != 0 else ['Normal'])"
   ],
   "metadata": {
    "collapsed": false,
    "ExecuteTime": {
     "start_time": "2023-04-24T13:46:56.306166Z",
     "end_time": "2023-04-24T13:46:56.347167Z"
    }
   }
  },
  {
   "cell_type": "code",
   "execution_count": 4,
   "outputs": [
    {
     "name": "stdout",
     "output_type": "stream",
     "text": [
      "load took 2.536735773086548[s] to execute.\n",
      "\n",
      "----------CXR Dataset----------\n",
      "No.Examples: 100\n",
      "No.Clases: 14\n",
      "Image shapes: (1, 1024, 1024, 3)\n",
      "TfDataset\n"
     ]
    }
   ],
   "source": [
    "val = CXRDataset(IMG_DIR, AUX_LIST_FILE)\n",
    "val.load()\n",
    "print(val)\n",
    "\n",
    "val.print_img(0)\n",
    "val.print_img(1)\n",
    "val.print_img(2)"
   ],
   "metadata": {
    "collapsed": false,
    "ExecuteTime": {
     "start_time": "2023-04-24T13:46:56.322168Z",
     "end_time": "2023-04-24T13:47:11.434293Z"
    }
   }
  },
  {
   "cell_type": "code",
   "execution_count": 1,
   "outputs": [
    {
     "name": "stdout",
     "output_type": "stream",
     "text": [
      "Num GPUs Available:  0\n",
      "[name: \"/device:CPU:0\"\n",
      "device_type: \"CPU\"\n",
      "memory_limit: 268435456\n",
      "locality {\n",
      "}\n",
      "incarnation: 4541221240871342100\n",
      "xla_global_id: -1\n",
      "]\n"
     ]
    },
    {
     "data": {
      "text/plain": "OrderedDict([('is_cuda_build', False),\n             ('is_rocm_build', False),\n             ('is_tensorrt_build', False),\n             ('msvcp_dll_names', 'msvcp140.dll,msvcp140_1.dll')])"
     },
     "execution_count": 1,
     "metadata": {},
     "output_type": "execute_result"
    }
   ],
   "source": [
    "import tensorflow as tf\n",
    "from tensorflow.python.client import device_lib\n",
    "\n",
    "\n",
    "print(\"Num GPUs Available: \", len(tf.config.list_physical_devices('GPU')))\n",
    "print(device_lib.list_local_devices())\n",
    "\n",
    "tf.sysconfig.get_build_info() "
   ],
   "metadata": {
    "collapsed": false,
    "ExecuteTime": {
     "start_time": "2023-04-24T17:08:14.728055Z",
     "end_time": "2023-04-24T17:08:21.034250Z"
    }
   }
  }
 ],
 "metadata": {
  "kernelspec": {
   "display_name": "Python 3",
   "language": "python",
   "name": "python3"
  },
  "language_info": {
   "codemirror_mode": {
    "name": "ipython",
    "version": 2
   },
   "file_extension": ".py",
   "mimetype": "text/x-python",
   "name": "python",
   "nbconvert_exporter": "python",
   "pygments_lexer": "ipython2",
   "version": "2.7.6"
  }
 },
 "nbformat": 4,
 "nbformat_minor": 0
}
